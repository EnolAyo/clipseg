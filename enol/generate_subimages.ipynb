{
 "cells": [
  {
   "cell_type": "code",
   "id": "initial_id",
   "metadata": {
    "collapsed": true,
    "ExecuteTime": {
     "end_time": "2024-10-07T12:40:43.689637Z",
     "start_time": "2024-10-07T12:40:43.685422Z"
    }
   },
   "source": [
    "import time\n",
    "\n",
    "import cv2\n",
    "import itertools\n",
    "import json\n",
    "import matplotlib.pyplot as plt\n",
    "import numpy as np\n",
    "import os\n",
    "import pandas as pd\n",
    "import random\n",
    "from pycocotools.coco import COCO\n",
    "from matplotlib import pyplot as plt\n",
    "from pathlib import Path\n",
    "from PIL import Image\n",
    "\n",
    "from itertools import groupby\n",
    "from skimage import io\n",
    "from tqdm import tqdm\n",
    "\n",
    "import pycocotools.mask as mask_util"
   ],
   "outputs": [],
   "execution_count": 43
  },
  {
   "metadata": {
    "ExecuteTime": {
     "end_time": "2024-10-07T13:11:30.022193Z",
     "start_time": "2024-10-07T13:11:29.709747Z"
    }
   },
   "cell_type": "code",
   "source": [
    "df = pd.read_csv('/home/eas/Enol/pycharm_projects/clipseg/third_party/severstal-steel-defect-detection/train.csv')\n",
    "df.head()\n"
   ],
   "id": "bbad0f43bf45db84",
   "outputs": [
    {
     "data": {
      "text/plain": [
       "<matplotlib.image.AxesImage at 0x7e71059fc460>"
      ]
     },
     "execution_count": 53,
     "metadata": {},
     "output_type": "execute_result"
    },
    {
     "data": {
      "text/plain": [
       "<Figure size 640x480 with 1 Axes>"
      ],
      "image/png": "[encoded data removed]"
     },
     "metadata": {},
     "output_type": "display_data"
    }
   ],
   "execution_count": 53
  },
  {
   "metadata": {
    "ExecuteTime": {
     "end_time": "2024-10-07T13:11:19.580102Z",
     "start_time": "2024-10-07T13:11:19.575818Z"
    }
   },
   "cell_type": "code",
   "source": [
    "def rle_decode(mask_rle, shape):\n",
    "    \"\"\"\n",
    "    Decodes run-length encoded segmentation mask string into 2d array\n",
    "\n",
    "    Parameters\n",
    "    ----------\n",
    "    :param rle_mask (str): Run-length encoded segmentation mask string.\n",
    "    :param shape (tuple): (height, width) of array to return\n",
    "    :return mask [numpy.ndarray of shape (height, width)]: Decoded 2d segmentation mask\n",
    "    \"\"\"\n",
    "    # Splits the RLE string into a list of string by whitespaces.\n",
    "    s = mask_rle.split()\n",
    "\n",
    "    # This creates two numpy arrays, one with the RLE starts and one with their respective lengths\n",
    "    starts, lengths = [np.asarray(x, dtype=int) for x in (s[0:][::2], s[1:][::2])]\n",
    "\n",
    "    # To obtain the end point we need to substract 1 to the length or start because the initial point counts.\n",
    "    starts -= 1\n",
    "    ends = starts + lengths\n",
    "\n",
    "    # Create a 1D array of size H*W of zeros\n",
    "    mask = np.zeros(shape[0]*shape[1], dtype=np.uint8)\n",
    "\n",
    "    # Fill this array with ones in the positions where there is a mask using the RLE information\n",
    "    for start, end in zip(starts, ends):\n",
    "        mask[start:end] = 1\n",
    "\n",
    "    # Reshape the 1D array into a 2D array so we can finally get the binary 2D mask.\n",
    "    mask = mask.reshape(shape)\n",
    "    return mask.T\n",
    "\n"
   ],
   "id": "6c8e58608dbb08f4",
   "outputs": [],
   "execution_count": 52
  },
  {
   "metadata": {
    "ExecuteTime": {
     "end_time": "2024-10-07T12:40:43.862565Z",
     "start_time": "2024-10-07T12:40:43.858189Z"
    }
   },
   "cell_type": "code",
   "source": [
    "def rle_encode(binary_matrix):\n",
    "    array = binary_matrix.T.flatten()\n",
    "    counting = False\n",
    "    length = 0\n",
    "    rle_code = []\n",
    "    for pos, val in enumerate(array):\n",
    "        if val == 1 and not counting:\n",
    "            counting = True\n",
    "            rle_code.append(str(pos + 1))\n",
    "            length += 1\n",
    "        elif val == 1 and counting:\n",
    "            length += 1\n",
    "        elif val == 0 and counting:\n",
    "            counting = False\n",
    "            rle_code.append(str(length))\n",
    "            length = 0\n",
    "    if counting:\n",
    "        rle_code.append(str(length))\n",
    "    return ' '.join(rle_code)"
   ],
   "id": "db4d5859cc1a092e",
   "outputs": [],
   "execution_count": 46
  },
  {
   "metadata": {
    "ExecuteTime": {
     "end_time": "2024-10-07T12:40:43.874282Z",
     "start_time": "2024-10-07T12:40:43.870050Z"
    }
   },
   "cell_type": "code",
   "source": [
    "height = 1600\n",
    "width = 256\n",
    "read_path = '/home/eas/Enol/pycharm_projects/clipseg/third_party/severstal-steel-defect-detection/train_images/'\n",
    "write_path = '/home/eas/Enol/pycharm_projects/clipseg/third_party/severstal-steel-defect-detection/train_subimages/'\n",
    "new_df = pd.DataFrame(columns=['ImageId', 'ClassId', 'EncodedPixels'])\n",
    "new_df['ClassId'] = new_df['ClassId'].astype(np.int64)"
   ],
   "id": "c9c18d0da7b0b07f",
   "outputs": [],
   "execution_count": 48
  },
  {
   "metadata": {
    "ExecuteTime": {
     "end_time": "2024-10-07T12:42:54.554197Z",
     "start_time": "2024-10-07T12:40:43.875705Z"
    }
   },
   "cell_type": "code",
   "source": [
    "## Generate subimages\n",
    "for filename in os.listdir(read_path):\n",
    "    image = cv2.imread(read_path + filename)\n",
    "    image_rgb = cv2.cvtColor(image, cv2.COLOR_BGR2RGB)\n",
    "    n_block = 1\n",
    "    for x in range(0, 1600, 256):\n",
    "        if n_block == 7:\n",
    "            block = image_rgb[:, -256:, :]\n",
    "        else:\n",
    "            block = image_rgb[:, x:x+256, :]\n",
    "        new_filename = write_path + filename[0:9] + f'_{n_block}' + '.jpg'\n",
    "        plt.imsave(new_filename, block)\n",
    "        n_block += 1"
   ],
   "id": "16880d2c7502869d",
   "outputs": [],
   "execution_count": 49
  },
  {
   "metadata": {
    "ExecuteTime": {
     "end_time": "2024-10-07T12:53:46.953660Z",
     "start_time": "2024-10-07T12:42:54.555301Z"
    }
   },
   "cell_type": "code",
   "source": [
    "## Generate csv with mask information for defects in the subimages\n",
    "for idx in range(0, len(df)):\n",
    "    mask = rle_decode(df.iloc[idx]['EncodedPixels'], (height, width))\n",
    "    class_id = str(df.iloc[idx]['ClassId'])\n",
    "    image_id = str(df.iloc[idx]['ImageId'])[0:9]\n",
    "    file = read_path + image_id + '.jpg'\n",
    "    image = cv2.imread(file)\n",
    "    image_rgb = cv2.cvtColor(image, cv2.COLOR_BGR2RGB)\n",
    "    mask_rgb = cv2.cvtColor(mask, cv2.COLOR_BGR2RGB)\n",
    "    n_block = 1\n",
    "    for x in range(0, 1600, 256):\n",
    "        if n_block == 7:\n",
    "            mask_block = mask_rgb[:, -256:, :]\n",
    "        else:\n",
    "            mask_block = mask_rgb[:, x:x+256, :]\n",
    "        \n",
    "        mask_block = mask_block\n",
    "        if np.sum(mask_block) > 0:\n",
    "            new_entry = {'ImageId': image_id + f'_{n_block}' + '.jpg', 'ClassId': class_id, 'EncodedPixels': rle_encode(mask_block)}\n",
    "            new_df = pd.concat([new_df, pd.DataFrame([new_entry])], ignore_index=True)\n",
    "        n_block += 1  \n",
    "        \n"
   ],
   "id": "e4da799a46458371",
   "outputs": [],
   "execution_count": 50
  },
  {
   "metadata": {
    "ExecuteTime": {
     "end_time": "2024-10-07T12:53:47.748380Z",
     "start_time": "2024-10-07T12:53:46.954837Z"
    }
   },
   "cell_type": "code",
   "source": "new_df.to_csv('/home/eas/Enol/pycharm_projects/clipseg/third_party/severstal-steel-defect-detection/subimages.csv')",
   "id": "d726ade45ef1e4b9",
   "outputs": [],
   "execution_count": 51
  }
 ],
 "metadata": {
  "kernelspec": {
   "display_name": "Python 3",
   "language": "python",
   "name": "python3"
  },
  "language_info": {
   "codemirror_mode": {
    "name": "ipython",
    "version": 2
   },
   "file_extension": ".py",
   "mimetype": "text/x-python",
   "name": "python",
   "nbconvert_exporter": "python",
   "pygments_lexer": "ipython2",
   "version": "2.7.6"
  }
 },
 "nbformat": 4,
 "nbformat_minor": 5
}
