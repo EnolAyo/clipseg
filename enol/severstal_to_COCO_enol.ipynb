{
 "cells": [
  {
   "cell_type": "code",
   "id": "initial_id",
   "metadata": {
    "collapsed": true,
    "ExecuteTime": {
     "end_time": "2024-10-24T13:53:19.261274Z",
     "start_time": "2024-10-24T13:53:19.253375Z"
    }
   },
   "source": [
    "import time\n",
    "\n",
    "import cv2\n",
    "import itertools\n",
    "import json\n",
    "import matplotlib.pyplot as plt\n",
    "import numpy as np\n",
    "import os\n",
    "import pandas as pd\n",
    "import random\n",
    "from pycocotools.coco import COCO\n",
    "from matplotlib import pyplot as plt\n",
    "from pathlib import Path\n",
    "from PIL import Image\n",
    "from sklearn.model_selection import train_test_split\n",
    "from itertools import groupby\n",
    "from skimage import io\n",
    "from sympy.core.random import randint\n",
    "from tqdm import tqdm\n",
    "\n",
    "import pycocotools.mask as mask_util"
   ],
   "outputs": [],
   "execution_count": 136
  },
  {
   "metadata": {
    "ExecuteTime": {
     "end_time": "2024-10-24T13:53:19.289619Z",
     "start_time": "2024-10-24T13:53:19.276291Z"
    }
   },
   "cell_type": "code",
   "source": [
    "def rle_decode(mask_rle, shape):\n",
    "    \"\"\"\n",
    "    Decodes run-length encoded segmentation mask string into 2d array\n",
    "\n",
    "    Parameters\n",
    "    ----------\n",
    "    :param rle_mask (str): Run-length encoded segmentation mask string.\n",
    "    :param shape (tuple): (height, width) of array to return\n",
    "    :return mask [numpy.ndarray of shape (height, width)]: Decoded 2d segmentation mask\n",
    "    \"\"\"\n",
    "    # Splits the RLE string into a list of string by whitespaces.\n",
    "    s = mask_rle.split()\n",
    "\n",
    "    # This creates two numpy arrays, one with the RLE starts and one with their respective lengths\n",
    "    starts, lengths = [np.asarray(x, dtype=int) for x in (s[0:][::2], s[1:][::2])]\n",
    "\n",
    "    # To obtain the end point we need to substract 1 to the length or start because the initial point counts.\n",
    "    starts -= 1\n",
    "    ends = starts + lengths\n",
    "\n",
    "    # Create a 1D array of size H*W of zeros\n",
    "    mask = np.zeros(shape[0]*shape[1], dtype=np.uint8)\n",
    "\n",
    "    # Fill this array with ones in the positions where there is a mask using the RLE information\n",
    "    for start, end in zip(starts, ends):\n",
    "        mask[start:end] = 1\n",
    "\n",
    "    # Reshape the 1D array into a 2D array so we can finally get the binary 2D mask.\n",
    "    mask = mask.reshape(shape)\n",
    "    return mask.T"
   ],
   "id": "bed650c9184cb5b7",
   "outputs": [],
   "execution_count": 137
  },
  {
   "metadata": {
    "ExecuteTime": {
     "end_time": "2024-10-24T13:53:19.338362Z",
     "start_time": "2024-10-24T13:53:19.333640Z"
    }
   },
   "cell_type": "code",
   "source": [
    "def binary_mask_to_rle(binary_mask):\n",
    "    \"\"\"\n",
    "    Checkout: https://cocodataset.org/#format-results\n",
    "    :param mask [numpy.ndarray of shape (height, width)]: Decoded 2d segmentation mask\n",
    "\n",
    "    This function returns the following dictionary:\n",
    "    {\n",
    "        \"counts\": encoded mask suggested by the official COCO dataset webpage.\n",
    "        \"size\": the size of the input mask/image\n",
    "    }\n",
    "    \"\"\"\n",
    "    # Create dictionary for the segmentation key in the COCO dataset\n",
    "    rle = {'counts': [], 'size': list(binary_mask.shape)}\n",
    "    # We need to convert it to a Fortran array\n",
    "    binary_mask_fortran = np.asfortranarray(binary_mask)\n",
    "    # Encode the mask as specified by the official COCO format\n",
    "    encoded_mask = mask_util.encode(binary_mask_fortran)\n",
    "    # We must decode the byte encoded string or otherwise we cannot save it as a JSON file\n",
    "    rle[\"counts\"] = encoded_mask[\"counts\"].decode()\n",
    "    return rle"
   ],
   "id": "6fc665afd8700968",
   "outputs": [],
   "execution_count": 138
  },
  {
   "metadata": {
    "ExecuteTime": {
     "end_time": "2024-10-24T13:53:19.397061Z",
     "start_time": "2024-10-24T13:53:19.383914Z"
    }
   },
   "cell_type": "code",
   "source": [
    "def create_coco_format_json(data_frame, classes, filepaths):\n",
    "    \"\"\"\n",
    "    This function creates a COCO dataset.\n",
    "    :param data_frame: pandas dataframe with an \"id\" column.\n",
    "    :param classes: list of strings where each string is a class.\n",
    "    :param filepaths: a list of strings containing all images paths\n",
    "    :return dataset_coco_format: COCO dataset (JSON).\n",
    "    \"\"\"\n",
    "    images = []\n",
    "    annotations = []\n",
    "    categories = []\n",
    "    count = 0\n",
    "\n",
    "    # Creates a categories list, i.e: [{'id': 0, 'name': 'a'}, {'id': 1, 'name': 'b'}, {'id': 2, 'name': 'c'}]\n",
    "    for idx, class_ in enumerate(classes):\n",
    "        categories.append(\n",
    "            {\n",
    "                \"id\": class_,\n",
    "                \"name\": f'class_{class_}'\n",
    "            }\n",
    "        )\n",
    "\n",
    "    # Iterate over image filepaths\n",
    "    for idx in range(len(data_frame)):\n",
    "        # Get the image id, e.g: \"10044\"\n",
    "        #print(filepath)\n",
    "        file_id = data_frame.iloc[idx]['ImageId']\n",
    "        #print(file_id)\n",
    "        # Get the image height, e.g: 360 (px)\n",
    "        height = 256\n",
    "        # Get the image width, e.g: 310 (px)\n",
    "        width = 256\n",
    "        # One image has many annotations associated to it (1 for each class), get a list with the indices.\n",
    "        #print(ids)\n",
    "        # Get filename\n",
    "        file_name = file_id\n",
    "        # Adding images which has annotations\n",
    "        images.append(\n",
    "            {\n",
    "                \"id\": file_id,\n",
    "                \"width\": width,\n",
    "                \"height\": height,\n",
    "                \"file_name\": file_name\n",
    "            }\n",
    "        )\n",
    "        \n",
    "        mk = rle_decode(data_frame.iloc[idx]['EncodedPixels'], (256, 256))\n",
    "        ys, xs = np.where(mk)\n",
    "        x1, x2 = min(xs), max(xs)\n",
    "        y1, y2 = min(ys), max(ys)\n",
    "        enc = binary_mask_to_rle(mk)\n",
    "        seg = {\n",
    "            'segmentation': enc,\n",
    "            'bbox': [int(x1), int(y1), int(x2-x1+1), int(y2-y1+1)],\n",
    "            'area': int(np.sum(mk)),\n",
    "            'image_id':file_id,\n",
    "            'category_id':int(data_frame.iloc[idx]['ClassId']),\n",
    "            'iscrowd':0,\n",
    "            'id': count\n",
    "        }\n",
    "        annotations.append(seg)\n",
    "        count +=1\n",
    "\n",
    "\n",
    "    # Create the dataset\n",
    "    dataset_coco_format = {\n",
    "        \"categories\": categories,\n",
    "        \"images\": images,\n",
    "        \"annotations\": annotations,\n",
    "    }\n",
    "\n",
    "    return dataset_coco_format\n",
    "\n",
    "\n",
    "def sep():\n",
    "    print(\"-\"*100)"
   ],
   "id": "485c17c6ae08facb",
   "outputs": [],
   "execution_count": 139
  },
  {
   "metadata": {
    "ExecuteTime": {
     "end_time": "2024-10-24T13:53:19.446771Z",
     "start_time": "2024-10-24T13:53:19.443451Z"
    }
   },
   "cell_type": "code",
   "source": [
    "height = 256\n",
    "width = 256\n",
    "data_path = '/home/eas/Enol/pycharm_projects/clipseg/third_party/Severstal/train_subimages'"
   ],
   "id": "93ea49a9ba0703c0",
   "outputs": [],
   "execution_count": 140
  },
  {
   "metadata": {
    "ExecuteTime": {
     "end_time": "2024-10-24T13:53:20.319329Z",
     "start_time": "2024-10-24T13:53:19.491954Z"
    }
   },
   "cell_type": "code",
   "source": [
    "df = pd.read_csv('~/Enol/pycharm_projects/clipseg/third_party/Severstal/subimages.csv')\n",
    "#Shuffle the DataFrame\n",
    "df = df.sample(frac=1).reset_index(drop=True)"
   ],
   "id": "ab1222482c34e04b",
   "outputs": [],
   "execution_count": 141
  },
  {
   "metadata": {
    "ExecuteTime": {
     "end_time": "2024-10-24T13:53:20.342843Z",
     "start_time": "2024-10-24T13:53:20.335999Z"
    }
   },
   "cell_type": "code",
   "source": [
    "split_ratio = 0.7\n",
    "split_index = int(len(df) * split_ratio)\n",
    "df_train = df.iloc[:split_index]\n",
    "df_val = df.iloc[split_index:]\n",
    "df_train = df_train.reset_index(drop=True)\n",
    "df_val = df_val.reset_index(drop=True)"
   ],
   "id": "3d80d2a010e74c00",
   "outputs": [],
   "execution_count": 142
  },
  {
   "metadata": {
    "ExecuteTime": {
     "end_time": "2024-10-24T13:53:20.381914Z",
     "start_time": "2024-10-24T13:53:20.378369Z"
    }
   },
   "cell_type": "code",
   "source": "classes = sorted(df[\"ClassId\"].unique().tolist())",
   "id": "6f22928d1d6d2e55",
   "outputs": [],
   "execution_count": 143
  },
  {
   "metadata": {
    "ExecuteTime": {
     "end_time": "2024-10-24T13:53:20.659064Z",
     "start_time": "2024-10-24T13:53:20.431501Z"
    }
   },
   "cell_type": "code",
   "source": [
    "filepaths = list()\n",
    "\n",
    "for (dirpath, dirnames, filenames) in os.walk(data_path):\n",
    "    filepaths += [os.path.join(dirpath, file) for file in filenames if file.endswith(\".jpg\")]"
   ],
   "id": "b953828971eef352",
   "outputs": [],
   "execution_count": 144
  },
  {
   "metadata": {
    "ExecuteTime": {
     "end_time": "2024-10-24T13:54:09.972511Z",
     "start_time": "2024-10-24T13:53:20.999189Z"
    }
   },
   "cell_type": "code",
   "source": [
    "g_json_train = create_coco_format_json(df_train, classes, filepaths)\n",
    "g_json_val = create_coco_format_json(df_val, classes, filepaths)"
   ],
   "id": "3d04691a2578bb96",
   "outputs": [],
   "execution_count": 146
  },
  {
   "metadata": {
    "ExecuteTime": {
     "end_time": "2024-10-24T13:54:10.370760Z",
     "start_time": "2024-10-24T13:54:09.991564Z"
    }
   },
   "cell_type": "code",
   "source": [
    "with open('/home/eas/Enol/pycharm_projects/clipseg/third_party/Severstal/annotations_COCO_train.json', 'w', encoding='utf-8') as f:\n",
    "    json.dump(g_json_train, f, indent=4)"
   ],
   "id": "ba8fef62360c26b6",
   "outputs": [],
   "execution_count": 147
  },
  {
   "metadata": {
    "ExecuteTime": {
     "end_time": "2024-10-24T13:54:10.538188Z",
     "start_time": "2024-10-24T13:54:10.389031Z"
    }
   },
   "cell_type": "code",
   "source": [
    "with open('/home/eas/Enol/pycharm_projects/clipseg/third_party/Severstal/annotations_COCO_val.json', 'w', encoding='utf-8') as f:\n",
    "    json.dump(g_json_val, f, indent=4)"
   ],
   "id": "3ee98324fd2f9fc",
   "outputs": [],
   "execution_count": 148
  }
 ],
 "metadata": {
  "kernelspec": {
   "display_name": "Python 3",
   "language": "python",
   "name": "python3"
  },
  "language_info": {
   "codemirror_mode": {
    "name": "ipython",
    "version": 2
   },
   "file_extension": ".py",
   "mimetype": "text/x-python",
   "name": "python",
   "nbconvert_exporter": "python",
   "pygments_lexer": "ipython2",
   "version": "2.7.6"
  }
 },
 "nbformat": 4,
 "nbformat_minor": 5
}
